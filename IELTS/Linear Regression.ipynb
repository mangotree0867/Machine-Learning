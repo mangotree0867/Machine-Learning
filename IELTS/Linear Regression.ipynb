{
 "cells": [
  {
   "cell_type": "code",
   "execution_count": 1,
   "id": "1c0228fb",
   "metadata": {},
   "outputs": [],
   "source": [
    "import numpy as np\n",
    "import pandas as pd\n",
    "import matplotlib.pyplot as plt\n",
    "from sklearn.model_selection import train_test_split\n",
    "from sklearn.feature_extraction.text import TfidfVectorizer\n",
    "from sklearn.linear_model import LinearRegression\n",
    "from sklearn.metrics import mean_absolute_error, mean_squared_error"
   ]
  },
  {
   "cell_type": "code",
   "execution_count": 2,
   "id": "24383f1f",
   "metadata": {},
   "outputs": [],
   "source": [
    "df = pd.read_csv(\"ielts_dataset_original.csv\")"
   ]
  },
  {
   "cell_type": "code",
   "execution_count": 3,
   "id": "f4e7fc42",
   "metadata": {},
   "outputs": [
    {
     "data": {
      "text/html": [
       "<div>\n",
       "<style scoped>\n",
       "    .dataframe tbody tr th:only-of-type {\n",
       "        vertical-align: middle;\n",
       "    }\n",
       "\n",
       "    .dataframe tbody tr th {\n",
       "        vertical-align: top;\n",
       "    }\n",
       "\n",
       "    .dataframe thead th {\n",
       "        text-align: right;\n",
       "    }\n",
       "</style>\n",
       "<table border=\"1\" class=\"dataframe\">\n",
       "  <thead>\n",
       "    <tr style=\"text-align: right;\">\n",
       "      <th></th>\n",
       "      <th>Task_Type</th>\n",
       "      <th>Question</th>\n",
       "      <th>Essay</th>\n",
       "      <th>Examiner_Commen</th>\n",
       "      <th>Task_Response</th>\n",
       "      <th>Coherence_Cohesion</th>\n",
       "      <th>Lexical_Resource</th>\n",
       "      <th>Range_Accuracy</th>\n",
       "      <th>Overall</th>\n",
       "    </tr>\n",
       "  </thead>\n",
       "  <tbody>\n",
       "    <tr>\n",
       "      <th>0</th>\n",
       "      <td>1</td>\n",
       "      <td>The bar chart below describes some changes abo...</td>\n",
       "      <td>Between 1995 and 2010, a study was conducted r...</td>\n",
       "      <td>NaN</td>\n",
       "      <td>NaN</td>\n",
       "      <td>NaN</td>\n",
       "      <td>NaN</td>\n",
       "      <td>NaN</td>\n",
       "      <td>5.5</td>\n",
       "    </tr>\n",
       "    <tr>\n",
       "      <th>1</th>\n",
       "      <td>2</td>\n",
       "      <td>Rich countries often give money to poorer coun...</td>\n",
       "      <td>Poverty represents a worldwide crisis. It is t...</td>\n",
       "      <td>NaN</td>\n",
       "      <td>NaN</td>\n",
       "      <td>NaN</td>\n",
       "      <td>NaN</td>\n",
       "      <td>NaN</td>\n",
       "      <td>6.5</td>\n",
       "    </tr>\n",
       "    <tr>\n",
       "      <th>2</th>\n",
       "      <td>1</td>\n",
       "      <td>The bar chart below describes some changes abo...</td>\n",
       "      <td>The left chart shows the population change hap...</td>\n",
       "      <td>NaN</td>\n",
       "      <td>NaN</td>\n",
       "      <td>NaN</td>\n",
       "      <td>NaN</td>\n",
       "      <td>NaN</td>\n",
       "      <td>5.0</td>\n",
       "    </tr>\n",
       "    <tr>\n",
       "      <th>3</th>\n",
       "      <td>2</td>\n",
       "      <td>Rich countries often give money to poorer coun...</td>\n",
       "      <td>Human beings are facing many challenges nowada...</td>\n",
       "      <td>NaN</td>\n",
       "      <td>NaN</td>\n",
       "      <td>NaN</td>\n",
       "      <td>NaN</td>\n",
       "      <td>NaN</td>\n",
       "      <td>5.5</td>\n",
       "    </tr>\n",
       "    <tr>\n",
       "      <th>4</th>\n",
       "      <td>1</td>\n",
       "      <td>The graph below shows the number of overseas v...</td>\n",
       "      <td>Information about the thousands of visits from...</td>\n",
       "      <td>NaN</td>\n",
       "      <td>NaN</td>\n",
       "      <td>NaN</td>\n",
       "      <td>NaN</td>\n",
       "      <td>NaN</td>\n",
       "      <td>7.0</td>\n",
       "    </tr>\n",
       "    <tr>\n",
       "      <th>...</th>\n",
       "      <td>...</td>\n",
       "      <td>...</td>\n",
       "      <td>...</td>\n",
       "      <td>...</td>\n",
       "      <td>...</td>\n",
       "      <td>...</td>\n",
       "      <td>...</td>\n",
       "      <td>...</td>\n",
       "      <td>...</td>\n",
       "    </tr>\n",
       "    <tr>\n",
       "      <th>1430</th>\n",
       "      <td>2</td>\n",
       "      <td>Without capital punishment our lives are less ...</td>\n",
       "      <td>Serious crimes need capital punishment so that...</td>\n",
       "      <td>You should rewrite it, giving more thought to ...</td>\n",
       "      <td>NaN</td>\n",
       "      <td>NaN</td>\n",
       "      <td>NaN</td>\n",
       "      <td>NaN</td>\n",
       "      <td>5.0</td>\n",
       "    </tr>\n",
       "    <tr>\n",
       "      <th>1431</th>\n",
       "      <td>2</td>\n",
       "      <td>Some people think that they can learn better b...</td>\n",
       "      <td>It is certainly said that learning is an ongoi...</td>\n",
       "      <td>Where are the paragraphs in this essay? You mu...</td>\n",
       "      <td>NaN</td>\n",
       "      <td>NaN</td>\n",
       "      <td>NaN</td>\n",
       "      <td>NaN</td>\n",
       "      <td>5.0</td>\n",
       "    </tr>\n",
       "    <tr>\n",
       "      <th>1432</th>\n",
       "      <td>2</td>\n",
       "      <td>Nowadays people like to change their day by da...</td>\n",
       "      <td>popular hobbies rather than their individual a...</td>\n",
       "      <td>I suggest that you read several essays that ha...</td>\n",
       "      <td>NaN</td>\n",
       "      <td>NaN</td>\n",
       "      <td>NaN</td>\n",
       "      <td>NaN</td>\n",
       "      <td>5.0</td>\n",
       "    </tr>\n",
       "    <tr>\n",
       "      <th>1433</th>\n",
       "      <td>2</td>\n",
       "      <td>Universities should allocate the same amount o...</td>\n",
       "      <td>Yes, I do feel that universities should have a...</td>\n",
       "      <td>Your essay too short, the introduction is good...</td>\n",
       "      <td>NaN</td>\n",
       "      <td>NaN</td>\n",
       "      <td>NaN</td>\n",
       "      <td>NaN</td>\n",
       "      <td>5.0</td>\n",
       "    </tr>\n",
       "    <tr>\n",
       "      <th>1434</th>\n",
       "      <td>2</td>\n",
       "      <td>Modern medicine helps to live a longer life. D...</td>\n",
       "      <td>The modern medicine is very important for livi...</td>\n",
       "      <td>The structure of sentences is not very good he...</td>\n",
       "      <td>NaN</td>\n",
       "      <td>NaN</td>\n",
       "      <td>NaN</td>\n",
       "      <td>NaN</td>\n",
       "      <td>5.0</td>\n",
       "    </tr>\n",
       "  </tbody>\n",
       "</table>\n",
       "<p>1435 rows × 9 columns</p>\n",
       "</div>"
      ],
      "text/plain": [
       "      Task_Type                                           Question  \\\n",
       "0             1  The bar chart below describes some changes abo...   \n",
       "1             2  Rich countries often give money to poorer coun...   \n",
       "2             1  The bar chart below describes some changes abo...   \n",
       "3             2  Rich countries often give money to poorer coun...   \n",
       "4             1  The graph below shows the number of overseas v...   \n",
       "...         ...                                                ...   \n",
       "1430          2  Without capital punishment our lives are less ...   \n",
       "1431          2  Some people think that they can learn better b...   \n",
       "1432          2  Nowadays people like to change their day by da...   \n",
       "1433          2  Universities should allocate the same amount o...   \n",
       "1434          2  Modern medicine helps to live a longer life. D...   \n",
       "\n",
       "                                                  Essay  \\\n",
       "0     Between 1995 and 2010, a study was conducted r...   \n",
       "1     Poverty represents a worldwide crisis. It is t...   \n",
       "2     The left chart shows the population change hap...   \n",
       "3     Human beings are facing many challenges nowada...   \n",
       "4     Information about the thousands of visits from...   \n",
       "...                                                 ...   \n",
       "1430  Serious crimes need capital punishment so that...   \n",
       "1431  It is certainly said that learning is an ongoi...   \n",
       "1432  popular hobbies rather than their individual a...   \n",
       "1433  Yes, I do feel that universities should have a...   \n",
       "1434  The modern medicine is very important for livi...   \n",
       "\n",
       "                                        Examiner_Commen  Task_Response  \\\n",
       "0                                                   NaN            NaN   \n",
       "1                                                   NaN            NaN   \n",
       "2                                                   NaN            NaN   \n",
       "3                                                   NaN            NaN   \n",
       "4                                                   NaN            NaN   \n",
       "...                                                 ...            ...   \n",
       "1430  You should rewrite it, giving more thought to ...            NaN   \n",
       "1431  Where are the paragraphs in this essay? You mu...            NaN   \n",
       "1432  I suggest that you read several essays that ha...            NaN   \n",
       "1433  Your essay too short, the introduction is good...            NaN   \n",
       "1434  The structure of sentences is not very good he...            NaN   \n",
       "\n",
       "      Coherence_Cohesion  Lexical_Resource  Range_Accuracy  Overall  \n",
       "0                    NaN               NaN             NaN      5.5  \n",
       "1                    NaN               NaN             NaN      6.5  \n",
       "2                    NaN               NaN             NaN      5.0  \n",
       "3                    NaN               NaN             NaN      5.5  \n",
       "4                    NaN               NaN             NaN      7.0  \n",
       "...                  ...               ...             ...      ...  \n",
       "1430                 NaN               NaN             NaN      5.0  \n",
       "1431                 NaN               NaN             NaN      5.0  \n",
       "1432                 NaN               NaN             NaN      5.0  \n",
       "1433                 NaN               NaN             NaN      5.0  \n",
       "1434                 NaN               NaN             NaN      5.0  \n",
       "\n",
       "[1435 rows x 9 columns]"
      ]
     },
     "execution_count": 3,
     "metadata": {},
     "output_type": "execute_result"
    }
   ],
   "source": [
    "df"
   ]
  },
  {
   "cell_type": "code",
   "execution_count": 4,
   "id": "6ff21b33",
   "metadata": {},
   "outputs": [
    {
     "data": {
      "text/plain": [
       "Task_Type                0\n",
       "Question                 0\n",
       "Essay                    0\n",
       "Examiner_Commen       1373\n",
       "Task_Response         1435\n",
       "Coherence_Cohesion    1435\n",
       "Lexical_Resource      1435\n",
       "Range_Accuracy        1435\n",
       "Overall                  0\n",
       "dtype: int64"
      ]
     },
     "execution_count": 4,
     "metadata": {},
     "output_type": "execute_result"
    }
   ],
   "source": [
    "df.isnull().sum()"
   ]
  },
  {
   "cell_type": "code",
   "execution_count": 5,
   "id": "4fb96f11",
   "metadata": {},
   "outputs": [],
   "source": [
    "work_df = df.iloc[:,[0,1, 2, 8]]"
   ]
  },
  {
   "cell_type": "code",
   "execution_count": 6,
   "id": "41e28f8c",
   "metadata": {},
   "outputs": [
    {
     "data": {
      "text/html": [
       "<div>\n",
       "<style scoped>\n",
       "    .dataframe tbody tr th:only-of-type {\n",
       "        vertical-align: middle;\n",
       "    }\n",
       "\n",
       "    .dataframe tbody tr th {\n",
       "        vertical-align: top;\n",
       "    }\n",
       "\n",
       "    .dataframe thead th {\n",
       "        text-align: right;\n",
       "    }\n",
       "</style>\n",
       "<table border=\"1\" class=\"dataframe\">\n",
       "  <thead>\n",
       "    <tr style=\"text-align: right;\">\n",
       "      <th></th>\n",
       "      <th>Task_Type</th>\n",
       "      <th>Question</th>\n",
       "      <th>Essay</th>\n",
       "      <th>Overall</th>\n",
       "    </tr>\n",
       "  </thead>\n",
       "  <tbody>\n",
       "    <tr>\n",
       "      <th>0</th>\n",
       "      <td>1</td>\n",
       "      <td>The bar chart below describes some changes abo...</td>\n",
       "      <td>Between 1995 and 2010, a study was conducted r...</td>\n",
       "      <td>5.5</td>\n",
       "    </tr>\n",
       "    <tr>\n",
       "      <th>1</th>\n",
       "      <td>2</td>\n",
       "      <td>Rich countries often give money to poorer coun...</td>\n",
       "      <td>Poverty represents a worldwide crisis. It is t...</td>\n",
       "      <td>6.5</td>\n",
       "    </tr>\n",
       "    <tr>\n",
       "      <th>2</th>\n",
       "      <td>1</td>\n",
       "      <td>The bar chart below describes some changes abo...</td>\n",
       "      <td>The left chart shows the population change hap...</td>\n",
       "      <td>5.0</td>\n",
       "    </tr>\n",
       "    <tr>\n",
       "      <th>3</th>\n",
       "      <td>2</td>\n",
       "      <td>Rich countries often give money to poorer coun...</td>\n",
       "      <td>Human beings are facing many challenges nowada...</td>\n",
       "      <td>5.5</td>\n",
       "    </tr>\n",
       "    <tr>\n",
       "      <th>4</th>\n",
       "      <td>1</td>\n",
       "      <td>The graph below shows the number of overseas v...</td>\n",
       "      <td>Information about the thousands of visits from...</td>\n",
       "      <td>7.0</td>\n",
       "    </tr>\n",
       "    <tr>\n",
       "      <th>...</th>\n",
       "      <td>...</td>\n",
       "      <td>...</td>\n",
       "      <td>...</td>\n",
       "      <td>...</td>\n",
       "    </tr>\n",
       "    <tr>\n",
       "      <th>1430</th>\n",
       "      <td>2</td>\n",
       "      <td>Without capital punishment our lives are less ...</td>\n",
       "      <td>Serious crimes need capital punishment so that...</td>\n",
       "      <td>5.0</td>\n",
       "    </tr>\n",
       "    <tr>\n",
       "      <th>1431</th>\n",
       "      <td>2</td>\n",
       "      <td>Some people think that they can learn better b...</td>\n",
       "      <td>It is certainly said that learning is an ongoi...</td>\n",
       "      <td>5.0</td>\n",
       "    </tr>\n",
       "    <tr>\n",
       "      <th>1432</th>\n",
       "      <td>2</td>\n",
       "      <td>Nowadays people like to change their day by da...</td>\n",
       "      <td>popular hobbies rather than their individual a...</td>\n",
       "      <td>5.0</td>\n",
       "    </tr>\n",
       "    <tr>\n",
       "      <th>1433</th>\n",
       "      <td>2</td>\n",
       "      <td>Universities should allocate the same amount o...</td>\n",
       "      <td>Yes, I do feel that universities should have a...</td>\n",
       "      <td>5.0</td>\n",
       "    </tr>\n",
       "    <tr>\n",
       "      <th>1434</th>\n",
       "      <td>2</td>\n",
       "      <td>Modern medicine helps to live a longer life. D...</td>\n",
       "      <td>The modern medicine is very important for livi...</td>\n",
       "      <td>5.0</td>\n",
       "    </tr>\n",
       "  </tbody>\n",
       "</table>\n",
       "<p>1435 rows × 4 columns</p>\n",
       "</div>"
      ],
      "text/plain": [
       "      Task_Type                                           Question  \\\n",
       "0             1  The bar chart below describes some changes abo...   \n",
       "1             2  Rich countries often give money to poorer coun...   \n",
       "2             1  The bar chart below describes some changes abo...   \n",
       "3             2  Rich countries often give money to poorer coun...   \n",
       "4             1  The graph below shows the number of overseas v...   \n",
       "...         ...                                                ...   \n",
       "1430          2  Without capital punishment our lives are less ...   \n",
       "1431          2  Some people think that they can learn better b...   \n",
       "1432          2  Nowadays people like to change their day by da...   \n",
       "1433          2  Universities should allocate the same amount o...   \n",
       "1434          2  Modern medicine helps to live a longer life. D...   \n",
       "\n",
       "                                                  Essay  Overall  \n",
       "0     Between 1995 and 2010, a study was conducted r...      5.5  \n",
       "1     Poverty represents a worldwide crisis. It is t...      6.5  \n",
       "2     The left chart shows the population change hap...      5.0  \n",
       "3     Human beings are facing many challenges nowada...      5.5  \n",
       "4     Information about the thousands of visits from...      7.0  \n",
       "...                                                 ...      ...  \n",
       "1430  Serious crimes need capital punishment so that...      5.0  \n",
       "1431  It is certainly said that learning is an ongoi...      5.0  \n",
       "1432  popular hobbies rather than their individual a...      5.0  \n",
       "1433  Yes, I do feel that universities should have a...      5.0  \n",
       "1434  The modern medicine is very important for livi...      5.0  \n",
       "\n",
       "[1435 rows x 4 columns]"
      ]
     },
     "execution_count": 6,
     "metadata": {},
     "output_type": "execute_result"
    }
   ],
   "source": [
    "work_df"
   ]
  },
  {
   "cell_type": "code",
   "execution_count": 7,
   "id": "eccb6694",
   "metadata": {},
   "outputs": [],
   "source": [
    "x = work_df[['Task_Type', 'Question', 'Essay']]\n",
    "y = work_df[['Overall']]"
   ]
  },
  {
   "cell_type": "code",
   "execution_count": 8,
   "id": "2781ec15",
   "metadata": {},
   "outputs": [],
   "source": [
    "x_train, x_test, y_train, y_test = train_test_split(x, y, test_size=0.3, random_state=42)"
   ]
  },
  {
   "cell_type": "code",
   "execution_count": 9,
   "id": "fc2e77ab",
   "metadata": {
    "scrolled": false
   },
   "outputs": [],
   "source": [
    "vectorizer = TfidfVectorizer(max_features=2000)  # Adjust max_features as needed\n",
    "x_train_tfidf = vectorizer.fit_transform(x_train['Question'] + ' ' + x_train['Essay'])\n",
    "x_test_tfidf = vectorizer.transform(x_test['Question'] + ' ' + x_test['Essay'])"
   ]
  },
  {
   "cell_type": "code",
   "execution_count": 10,
   "id": "1115cdbf",
   "metadata": {},
   "outputs": [
    {
     "data": {
      "text/plain": [
       "LinearRegression()"
      ]
     },
     "execution_count": 10,
     "metadata": {},
     "output_type": "execute_result"
    }
   ],
   "source": [
    "model = LinearRegression()\n",
    "model.fit(x_train_tfidf, y_train)\n"
   ]
  },
  {
   "cell_type": "code",
   "execution_count": 11,
   "id": "7025ca80",
   "metadata": {},
   "outputs": [],
   "source": [
    "y_pred = model.predict(x_test_tfidf)\n",
    "\n",
    "# Evaluate the model's performance\n",
    "mae = mean_absolute_error(y_test, y_pred)\n",
    "rmse = mean_squared_error(y_test, y_pred, squared=False)"
   ]
  },
  {
   "cell_type": "code",
   "execution_count": 12,
   "id": "15d9812f",
   "metadata": {},
   "outputs": [
    {
     "data": {
      "text/plain": [
       "(431, 1)"
      ]
     },
     "execution_count": 12,
     "metadata": {},
     "output_type": "execute_result"
    }
   ],
   "source": [
    "y_pred.shape"
   ]
  },
  {
   "cell_type": "code",
   "execution_count": 13,
   "id": "bb186013",
   "metadata": {},
   "outputs": [
    {
     "data": {
      "text/plain": [
       "(431, 1)"
      ]
     },
     "execution_count": 13,
     "metadata": {},
     "output_type": "execute_result"
    }
   ],
   "source": [
    "y_test.shape"
   ]
  },
  {
   "cell_type": "code",
   "execution_count": 17,
   "id": "cb25d4dd",
   "metadata": {},
   "outputs": [],
   "source": [
    "compare = y_test.copy()"
   ]
  },
  {
   "cell_type": "code",
   "execution_count": 18,
   "id": "b1ce6a1b",
   "metadata": {},
   "outputs": [],
   "source": [
    "compare['Predictions'] = y_pred"
   ]
  },
  {
   "cell_type": "code",
   "execution_count": 20,
   "id": "fb9b35c0",
   "metadata": {},
   "outputs": [
    {
     "data": {
      "text/html": [
       "<div>\n",
       "<style scoped>\n",
       "    .dataframe tbody tr th:only-of-type {\n",
       "        vertical-align: middle;\n",
       "    }\n",
       "\n",
       "    .dataframe tbody tr th {\n",
       "        vertical-align: top;\n",
       "    }\n",
       "\n",
       "    .dataframe thead th {\n",
       "        text-align: right;\n",
       "    }\n",
       "</style>\n",
       "<table border=\"1\" class=\"dataframe\">\n",
       "  <thead>\n",
       "    <tr style=\"text-align: right;\">\n",
       "      <th></th>\n",
       "      <th>Overall</th>\n",
       "      <th>Predictions</th>\n",
       "      <th>Overall - Predictions</th>\n",
       "    </tr>\n",
       "  </thead>\n",
       "  <tbody>\n",
       "    <tr>\n",
       "      <th>752</th>\n",
       "      <td>6.5</td>\n",
       "      <td>6.584271</td>\n",
       "      <td>-0.084271</td>\n",
       "    </tr>\n",
       "    <tr>\n",
       "      <th>857</th>\n",
       "      <td>7.5</td>\n",
       "      <td>6.909608</td>\n",
       "      <td>0.590392</td>\n",
       "    </tr>\n",
       "    <tr>\n",
       "      <th>629</th>\n",
       "      <td>7.0</td>\n",
       "      <td>7.755630</td>\n",
       "      <td>-0.755630</td>\n",
       "    </tr>\n",
       "    <tr>\n",
       "      <th>1411</th>\n",
       "      <td>6.0</td>\n",
       "      <td>6.140227</td>\n",
       "      <td>-0.140227</td>\n",
       "    </tr>\n",
       "    <tr>\n",
       "      <th>974</th>\n",
       "      <td>5.5</td>\n",
       "      <td>8.698177</td>\n",
       "      <td>-3.198177</td>\n",
       "    </tr>\n",
       "    <tr>\n",
       "      <th>...</th>\n",
       "      <td>...</td>\n",
       "      <td>...</td>\n",
       "      <td>...</td>\n",
       "    </tr>\n",
       "    <tr>\n",
       "      <th>1055</th>\n",
       "      <td>6.5</td>\n",
       "      <td>5.645055</td>\n",
       "      <td>0.854945</td>\n",
       "    </tr>\n",
       "    <tr>\n",
       "      <th>156</th>\n",
       "      <td>8.0</td>\n",
       "      <td>4.946964</td>\n",
       "      <td>3.053036</td>\n",
       "    </tr>\n",
       "    <tr>\n",
       "      <th>571</th>\n",
       "      <td>6.5</td>\n",
       "      <td>8.258908</td>\n",
       "      <td>-1.758908</td>\n",
       "    </tr>\n",
       "    <tr>\n",
       "      <th>594</th>\n",
       "      <td>7.0</td>\n",
       "      <td>5.906636</td>\n",
       "      <td>1.093364</td>\n",
       "    </tr>\n",
       "    <tr>\n",
       "      <th>733</th>\n",
       "      <td>5.0</td>\n",
       "      <td>7.904356</td>\n",
       "      <td>-2.904356</td>\n",
       "    </tr>\n",
       "  </tbody>\n",
       "</table>\n",
       "<p>431 rows × 3 columns</p>\n",
       "</div>"
      ],
      "text/plain": [
       "      Overall  Predictions  Overall - Predictions\n",
       "752       6.5     6.584271              -0.084271\n",
       "857       7.5     6.909608               0.590392\n",
       "629       7.0     7.755630              -0.755630\n",
       "1411      6.0     6.140227              -0.140227\n",
       "974       5.5     8.698177              -3.198177\n",
       "...       ...          ...                    ...\n",
       "1055      6.5     5.645055               0.854945\n",
       "156       8.0     4.946964               3.053036\n",
       "571       6.5     8.258908              -1.758908\n",
       "594       7.0     5.906636               1.093364\n",
       "733       5.0     7.904356              -2.904356\n",
       "\n",
       "[431 rows x 3 columns]"
      ]
     },
     "execution_count": 20,
     "metadata": {},
     "output_type": "execute_result"
    }
   ],
   "source": [
    "compare['Overall - Predictions'] = compare['Overall'] - compare['Predictions']\n",
    "compare"
   ]
  },
  {
   "cell_type": "code",
   "execution_count": 21,
   "id": "6c7fb73e",
   "metadata": {},
   "outputs": [
    {
     "name": "stdout",
     "output_type": "stream",
     "text": [
      "0.8935732725543789\n"
     ]
    }
   ],
   "source": [
    "print(mae)"
   ]
  },
  {
   "cell_type": "code",
   "execution_count": 22,
   "id": "e43da074",
   "metadata": {},
   "outputs": [
    {
     "name": "stdout",
     "output_type": "stream",
     "text": [
      "1.2106901157952714\n"
     ]
    }
   ],
   "source": [
    "print(rmse)"
   ]
  },
  {
   "cell_type": "code",
   "execution_count": null,
   "id": "7e76cc58",
   "metadata": {},
   "outputs": [],
   "source": []
  }
 ],
 "metadata": {
  "kernelspec": {
   "display_name": "Python 3 (ipykernel)",
   "language": "python",
   "name": "python3"
  },
  "language_info": {
   "codemirror_mode": {
    "name": "ipython",
    "version": 3
   },
   "file_extension": ".py",
   "mimetype": "text/x-python",
   "name": "python",
   "nbconvert_exporter": "python",
   "pygments_lexer": "ipython3",
   "version": "3.9.13"
  }
 },
 "nbformat": 4,
 "nbformat_minor": 5
}
