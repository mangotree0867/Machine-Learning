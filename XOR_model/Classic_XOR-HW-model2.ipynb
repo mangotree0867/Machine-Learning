{
 "cells": [
  {
   "cell_type": "code",
   "execution_count": 2,
   "id": "192f31e7",
   "metadata": {},
   "outputs": [],
   "source": [
    "import tensorflow as tf"
   ]
  },
  {
   "cell_type": "code",
   "execution_count": 3,
   "id": "2386e9e8",
   "metadata": {},
   "outputs": [],
   "source": [
    "import numpy as np\n",
    "\n",
    "\n",
    "from keras.utils import to_categorical\n",
    "from keras.models import Sequential\n",
    "from keras.layers import Dense, Conv2D, Flatten\n",
    "\n",
    "from sklearn.metrics import f1_score, precision_score, recall_score, confusion_matrix\n",
    "\n",
    "import tensorflow_datasets as tfds\n",
    "\n",
    "import matplotlib.pyplot as plt"
   ]
  },
  {
   "cell_type": "code",
   "execution_count": 4,
   "id": "134893c6",
   "metadata": {},
   "outputs": [],
   "source": [
    "tf.random.set_seed(1)\n",
    "np.random.seed(1)"
   ]
  },
  {
   "cell_type": "code",
   "execution_count": 5,
   "id": "4cbea8f2",
   "metadata": {},
   "outputs": [],
   "source": [
    "X = np.random.uniform( low=-1, high=1, size=(200, 2) )"
   ]
  },
  {
   "cell_type": "code",
   "execution_count": 6,
   "id": "d232378f",
   "metadata": {},
   "outputs": [
    {
     "data": {
      "text/plain": [
       "array([[-1.65955991e-01,  4.40648987e-01],\n",
       "       [-9.99771250e-01, -3.95334855e-01],\n",
       "       [-7.06488218e-01, -8.15322810e-01],\n",
       "       [-6.27479577e-01, -3.08878546e-01],\n",
       "       [-2.06465052e-01,  7.76334680e-02],\n",
       "       [-1.61610971e-01,  3.70439001e-01],\n",
       "       [-5.91095501e-01,  7.56234873e-01],\n",
       "       [-9.45224814e-01,  3.40935020e-01],\n",
       "       [-1.65390395e-01,  1.17379657e-01],\n",
       "       [-7.19226123e-01, -6.03797022e-01],\n",
       "       [ 6.01489137e-01,  9.36523151e-01],\n",
       "       [-3.73151644e-01,  3.84645231e-01],\n",
       "       [ 7.52778305e-01,  7.89213327e-01],\n",
       "       [-8.29911577e-01, -9.21890434e-01],\n",
       "       [-6.60339161e-01,  7.56285007e-01],\n",
       "       [-8.03306332e-01, -1.57784750e-01],\n",
       "       [ 9.15779060e-01,  6.63305699e-02],\n",
       "       [ 3.83754228e-01, -3.68968738e-01],\n",
       "       [ 3.73001855e-01,  6.69251344e-01],\n",
       "       [-9.63423445e-01,  5.00288630e-01],\n",
       "       [ 9.77722178e-01,  4.96331309e-01],\n",
       "       [-4.39112016e-01,  5.78558657e-01],\n",
       "       [-7.93547987e-01, -1.04212948e-01],\n",
       "       [ 8.17191006e-01, -4.12771703e-01],\n",
       "       [-4.24449323e-01, -7.39942856e-01],\n",
       "       [-9.61266084e-01,  3.57671066e-01],\n",
       "       [-5.76743768e-01, -4.68906681e-01],\n",
       "       [-1.68536814e-02, -8.93274910e-01],\n",
       "       [ 1.48235211e-01, -7.06542850e-01],\n",
       "       [ 1.78611074e-01,  3.99516720e-01],\n",
       "       [-7.95331142e-01, -1.71888024e-01],\n",
       "       [ 3.88800315e-01, -1.71641461e-01],\n",
       "       [-9.00093082e-01,  7.17928118e-02],\n",
       "       [ 3.27589290e-01,  2.97782241e-02],\n",
       "       [ 8.89189512e-01,  1.73110081e-01],\n",
       "       [ 8.06803831e-01, -7.25050592e-01],\n",
       "       [-7.21447305e-01,  6.14782577e-01],\n",
       "       [-2.04646326e-01, -6.69291606e-01],\n",
       "       [ 8.55017161e-01, -3.04468281e-01],\n",
       "       [ 5.01624206e-01,  4.51995971e-01],\n",
       "       [ 7.66612182e-01,  2.47344414e-01],\n",
       "       [ 5.01884868e-01, -3.02203316e-01],\n",
       "       [-4.60144216e-01,  7.91772436e-01],\n",
       "       [-1.43817620e-01,  9.29680094e-01],\n",
       "       [ 3.26882996e-01,  2.43391440e-01],\n",
       "       [-7.70508054e-01,  8.98978517e-01],\n",
       "       [-1.00175733e-01,  1.56779229e-01],\n",
       "       [-1.83726394e-01, -5.25946040e-01],\n",
       "       [ 8.06759041e-01,  1.47358973e-01],\n",
       "       [-9.94259346e-01,  2.34289827e-01],\n",
       "       [-3.46710196e-01,  5.41162045e-02],\n",
       "       [ 7.71884199e-01, -2.85460480e-01],\n",
       "       [ 8.17070302e-01,  2.46720232e-01],\n",
       "       [-9.68357514e-01,  8.58874467e-01],\n",
       "       [ 3.81793835e-01,  9.94645701e-01],\n",
       "       [-6.55318983e-01, -7.25728501e-01],\n",
       "       [ 8.65190926e-01,  3.93636323e-01],\n",
       "       [-8.67999655e-01,  5.10926105e-01],\n",
       "       [ 5.07752377e-01,  8.46049071e-01],\n",
       "       [ 4.23049517e-01, -7.51458076e-01],\n",
       "       [-9.60239732e-01, -9.47578026e-01],\n",
       "       [-9.43387024e-01, -5.07577865e-01],\n",
       "       [ 7.20055897e-01,  7.76621287e-02],\n",
       "       [ 1.05643957e-01,  6.84061785e-01],\n",
       "       [-7.51653370e-01, -4.41632642e-01],\n",
       "       [ 1.71518543e-01,  9.39191497e-01],\n",
       "       [ 1.22060439e-01, -9.62705421e-01],\n",
       "       [ 6.01265345e-01, -5.34051452e-01],\n",
       "       [ 6.14210391e-01, -2.24278712e-01],\n",
       "       [ 7.27083709e-01,  4.94243285e-01],\n",
       "       [ 1.12480468e-01, -7.27089549e-01],\n",
       "       [-8.80164621e-01, -7.57313089e-01],\n",
       "       [-9.10896243e-01, -7.85011742e-01],\n",
       "       [-5.48581323e-01,  4.25977961e-01],\n",
       "       [ 1.19433964e-01, -9.74888040e-01],\n",
       "       [-8.56051441e-01,  9.34552660e-01],\n",
       "       [ 1.36200924e-01, -5.93413531e-01],\n",
       "       [-4.95348511e-01,  4.87651708e-01],\n",
       "       [-6.09141038e-01,  1.62717855e-01],\n",
       "       [ 9.40039978e-01,  6.93657603e-01],\n",
       "       [-5.20304482e-01, -1.24605715e-02],\n",
       "       [ 2.39911437e-01,  6.57961799e-01],\n",
       "       [-6.86417211e-01, -9.62847596e-01],\n",
       "       [-8.59955713e-01, -2.73097781e-02],\n",
       "       [ 2.12658923e-01,  1.37702874e-01],\n",
       "       [-3.65275181e-01,  9.77232309e-01],\n",
       "       [ 1.59490438e-01, -2.39717655e-01],\n",
       "       [ 1.01896438e-01,  4.90668862e-01],\n",
       "       [ 3.38465787e-01, -4.70160885e-01],\n",
       "       [-8.67330331e-01, -2.59831604e-01],\n",
       "       [ 2.59435014e-01, -5.79651980e-01],\n",
       "       [ 5.05511107e-01, -8.66927037e-01],\n",
       "       [-4.79369803e-01,  6.09509127e-01],\n",
       "       [-6.13131435e-01,  2.78921762e-01],\n",
       "       [ 4.93406182e-02,  8.49615941e-01],\n",
       "       [-4.73406459e-01, -8.68077819e-01],\n",
       "       [ 4.70131927e-01,  5.44356059e-01],\n",
       "       [ 8.15631705e-01,  8.63944138e-01],\n",
       "       [-9.72096854e-01, -5.31275828e-01],\n",
       "       [ 2.33556714e-01,  8.98032641e-01],\n",
       "       [ 9.00352238e-01,  1.13306376e-01],\n",
       "       [ 8.31212700e-01,  2.83132418e-01],\n",
       "       [-2.19984572e-01, -2.80186658e-02],\n",
       "       [ 2.08620966e-01,  9.90958430e-02],\n",
       "       [ 8.52362853e-01,  8.37466871e-01],\n",
       "       [-2.10248774e-01,  9.26525057e-01],\n",
       "       [-6.52088667e-01, -7.47340961e-01],\n",
       "       [-7.29841684e-01,  1.13243314e-02],\n",
       "       [-9.56950389e-01,  8.95940422e-01],\n",
       "       [ 6.54230942e-01, -9.69962039e-01],\n",
       "       [-6.47607489e-01, -3.35872851e-01],\n",
       "       [-7.38006310e-01,  6.18981384e-01],\n",
       "       [-3.10526695e-01,  8.80214965e-01],\n",
       "       [ 1.64028360e-01,  7.57663969e-01],\n",
       "       [ 6.89468891e-01,  8.10784637e-01],\n",
       "       [-8.02394684e-02,  9.26936320e-02],\n",
       "       [ 5.97207182e-01, -4.28562297e-01],\n",
       "       [-1.94929548e-02,  1.98220615e-01],\n",
       "       [-9.68933449e-01,  1.86962816e-01],\n",
       "       [-1.32647302e-01,  6.14721058e-01],\n",
       "       [-3.69510394e-01,  7.85777417e-01],\n",
       "       [ 1.55714431e-01, -6.31979597e-01],\n",
       "       [ 5.75858468e-01,  2.24062354e-01],\n",
       "       [-8.92181456e-01, -1.59612640e-01],\n",
       "       [ 3.58137673e-01,  8.37203556e-01],\n",
       "       [-9.99195950e-01,  9.53518298e-01],\n",
       "       [-2.46839371e-01,  9.47567077e-01],\n",
       "       [ 2.09432202e-01,  6.57691616e-01],\n",
       "       [ 1.49423009e-01,  2.56152397e-01],\n",
       "       [-4.28847437e-01,  1.73666681e-01],\n",
       "       [ 5.00043527e-01,  7.16627673e-01],\n",
       "       [ 5.10164377e-01,  3.96114497e-01],\n",
       "       [ 7.28958860e-01, -3.54638006e-01],\n",
       "       [ 3.41577582e-01, -9.82521272e-02],\n",
       "       [-2.35794496e-01, -1.78377300e-01],\n",
       "       [-1.97040833e-01, -3.65232108e-01],\n",
       "       [ 2.43838736e-01, -1.39505458e-01],\n",
       "       [ 9.47604156e-01,  3.55601783e-01],\n",
       "       [-6.02860223e-01, -1.46597981e-01],\n",
       "       [-3.13307520e-01,  5.95277608e-01],\n",
       "       [ 7.59996577e-01,  8.07683912e-01],\n",
       "       [ 3.25439625e-01, -4.59583476e-01],\n",
       "       [-4.95266597e-01,  7.09795885e-01],\n",
       "       [ 5.54292926e-02,  6.04322168e-01],\n",
       "       [ 1.44977034e-01,  4.66285051e-01],\n",
       "       [ 3.80232549e-02,  5.41767821e-01],\n",
       "       [ 1.37715981e-01, -6.85802428e-02],\n",
       "       [-3.14622184e-01, -8.63581303e-01],\n",
       "       [-2.44151641e-01, -8.40747845e-01],\n",
       "       [ 9.65634227e-01, -6.36774297e-01],\n",
       "       [ 6.23717395e-01,  7.49923290e-01],\n",
       "       [ 3.76826505e-01,  1.38988825e-01],\n",
       "       [-6.78057126e-01, -6.62399545e-02],\n",
       "       [-3.09655898e-01, -5.49920084e-01],\n",
       "       [ 1.85023738e-01, -3.75460325e-01],\n",
       "       [ 8.32611107e-01,  8.19271050e-01],\n",
       "       [-4.85763412e-01, -7.78217399e-01],\n",
       "       [-6.14074536e-01, -8.31658642e-04],\n",
       "       [ 4.57171336e-01, -5.83611123e-01],\n",
       "       [-5.03932883e-01,  7.03343750e-01],\n",
       "       [-1.68302563e-01,  2.33370134e-01],\n",
       "       [-5.32667722e-01, -7.96065481e-01],\n",
       "       [ 3.17140339e-02, -4.57180259e-02],\n",
       "       [-6.94656712e-01,  2.43612463e-01],\n",
       "       [ 8.80202376e-02,  3.08274694e-01],\n",
       "       [-7.10908920e-01,  5.03055634e-01],\n",
       "       [-5.55901720e-01,  3.87036487e-02],\n",
       "       [ 5.70592056e-01, -9.55339144e-01],\n",
       "       [-3.51275081e-01,  7.45844753e-01],\n",
       "       [ 6.89419215e-01,  7.68811852e-02],\n",
       "       [ 7.33216548e-01,  8.99611983e-01],\n",
       "       [ 6.52813995e-01,  7.08230888e-01],\n",
       "       [-8.02513196e-01,  3.02608665e-01],\n",
       "       [ 4.07033976e-01,  2.20481625e-01],\n",
       "       [ 5.99230523e-01, -9.30857560e-01],\n",
       "       [ 5.40477469e-01,  4.63457201e-01],\n",
       "       [-4.80603213e-01, -4.85861402e-01],\n",
       "       [ 2.64606635e-01, -3.09405077e-01],\n",
       "       [ 5.93177356e-01, -1.07707536e-01],\n",
       "       [ 5.65498830e-01,  9.80943567e-01],\n",
       "       [-3.99503321e-01, -7.13988343e-01],\n",
       "       [ 8.02616873e-01,  8.31187578e-02],\n",
       "       [ 9.49480742e-01,  2.73208800e-01],\n",
       "       [ 9.87826049e-01,  9.21416083e-02],\n",
       "       [ 5.28518678e-02, -7.29144194e-01],\n",
       "       [-2.88589658e-01, -9.47562865e-01],\n",
       "       [-6.79209641e-01,  4.91274385e-01],\n",
       "       [-9.39200620e-01, -2.66913806e-01],\n",
       "       [ 7.24692506e-01,  3.85355435e-01],\n",
       "       [ 3.81884284e-01, -6.22726398e-01],\n",
       "       [-1.16191439e-01,  1.63154815e-01],\n",
       "       [ 9.79503415e-01, -5.92187550e-01],\n",
       "       [-5.04534196e-01, -4.75653832e-01],\n",
       "       [ 5.00344827e-01, -8.60493451e-02],\n",
       "       [-8.86141123e-01,  1.70324812e-02],\n",
       "       [-5.76079671e-01,  5.97208490e-01],\n",
       "       [-4.05337237e-01, -9.44787976e-01],\n",
       "       [ 1.86864899e-01,  6.87680858e-01],\n",
       "       [-2.37967752e-01,  4.99716621e-01],\n",
       "       [ 2.22829566e-02,  8.19036099e-02]])"
      ]
     },
     "execution_count": 6,
     "metadata": {},
     "output_type": "execute_result"
    }
   ],
   "source": [
    "X"
   ]
  },
  {
   "cell_type": "code",
   "execution_count": 7,
   "id": "4f622979",
   "metadata": {},
   "outputs": [],
   "source": [
    "y = np.ones( len(X) )"
   ]
  },
  {
   "cell_type": "code",
   "execution_count": 8,
   "id": "111d66fc",
   "metadata": {},
   "outputs": [
    {
     "data": {
      "text/plain": [
       "array([1., 1., 1., 1., 1., 1., 1., 1., 1., 1., 1., 1., 1., 1., 1., 1., 1.,\n",
       "       1., 1., 1., 1., 1., 1., 1., 1., 1., 1., 1., 1., 1., 1., 1., 1., 1.,\n",
       "       1., 1., 1., 1., 1., 1., 1., 1., 1., 1., 1., 1., 1., 1., 1., 1., 1.,\n",
       "       1., 1., 1., 1., 1., 1., 1., 1., 1., 1., 1., 1., 1., 1., 1., 1., 1.,\n",
       "       1., 1., 1., 1., 1., 1., 1., 1., 1., 1., 1., 1., 1., 1., 1., 1., 1.,\n",
       "       1., 1., 1., 1., 1., 1., 1., 1., 1., 1., 1., 1., 1., 1., 1., 1., 1.,\n",
       "       1., 1., 1., 1., 1., 1., 1., 1., 1., 1., 1., 1., 1., 1., 1., 1., 1.,\n",
       "       1., 1., 1., 1., 1., 1., 1., 1., 1., 1., 1., 1., 1., 1., 1., 1., 1.,\n",
       "       1., 1., 1., 1., 1., 1., 1., 1., 1., 1., 1., 1., 1., 1., 1., 1., 1.,\n",
       "       1., 1., 1., 1., 1., 1., 1., 1., 1., 1., 1., 1., 1., 1., 1., 1., 1.,\n",
       "       1., 1., 1., 1., 1., 1., 1., 1., 1., 1., 1., 1., 1., 1., 1., 1., 1.,\n",
       "       1., 1., 1., 1., 1., 1., 1., 1., 1., 1., 1., 1., 1.])"
      ]
     },
     "execution_count": 8,
     "metadata": {},
     "output_type": "execute_result"
    }
   ],
   "source": [
    "y"
   ]
  },
  {
   "cell_type": "code",
   "execution_count": 9,
   "id": "94cec7c4",
   "metadata": {},
   "outputs": [
    {
     "data": {
      "text/plain": [
       "array([0., 1., 1., 1., 0., 0., 0., 0., 0., 1., 1., 0., 1., 1., 0., 1., 1.,\n",
       "       0., 1., 0., 1., 0., 1., 0., 1., 0., 1., 1., 0., 1., 1., 0., 0., 1.,\n",
       "       1., 0., 0., 1., 0., 1., 1., 0., 0., 0., 1., 0., 0., 1., 1., 0., 0.,\n",
       "       0., 1., 0., 1., 1., 1., 0., 1., 0., 1., 1., 1., 1., 1., 1., 0., 0.,\n",
       "       0., 1., 0., 1., 1., 0., 0., 0., 0., 0., 0., 1., 1., 1., 1., 1., 1.,\n",
       "       0., 0., 1., 0., 1., 0., 0., 0., 0., 1., 1., 1., 1., 1., 1., 1., 1.,\n",
       "       1., 1., 1., 0., 1., 0., 0., 0., 1., 0., 0., 1., 1., 0., 0., 0., 0.,\n",
       "       0., 0., 0., 1., 1., 1., 0., 0., 1., 1., 0., 1., 1., 0., 0., 1., 1.,\n",
       "       0., 1., 1., 0., 1., 0., 0., 1., 1., 1., 0., 1., 1., 0., 1., 1., 1.,\n",
       "       1., 0., 1., 1., 1., 0., 0., 0., 1., 0., 0., 1., 0., 0., 0., 0., 1.,\n",
       "       1., 1., 0., 1., 0., 1., 1., 0., 0., 1., 1., 1., 1., 1., 0., 1., 0.,\n",
       "       1., 1., 0., 0., 0., 1., 0., 0., 0., 1., 1., 0., 1.])"
      ]
     },
     "execution_count": 9,
     "metadata": {},
     "output_type": "execute_result"
    }
   ],
   "source": [
    "y[ X[:, 0] * X[:, 1] < 0 ] = 0\n",
    "y"
   ]
  },
  {
   "cell_type": "code",
   "execution_count": 10,
   "id": "3a0e52fc",
   "metadata": {},
   "outputs": [
    {
     "name": "stdout",
     "output_type": "stream",
     "text": [
      "(200, 2)\n",
      "(200,)\n"
     ]
    }
   ],
   "source": [
    "print(X.shape)\n",
    "print(y.shape)"
   ]
  },
  {
   "cell_type": "code",
   "execution_count": 11,
   "id": "e0c4514b",
   "metadata": {
    "scrolled": false
   },
   "outputs": [
    {
     "data": {
      "image/png": "[encoded data removed]",
      "text/plain": [
       "<Figure size 640x480 with 1 Axes>"
      ]
     },
     "metadata": {},
     "output_type": "display_data"
    }
   ],
   "source": [
    "plt.scatter(X[ y==0 ,0], X[ y==0 , 1], s=50, c='lightgreen',marker='s', label='class0')\n",
    "plt.scatter(X[ y==1 ,0], X[y==1 , 1], s=50, c='red', marker='o', label='class1')\n",
    "plt.show()"
   ]
  },
  {
   "cell_type": "code",
   "execution_count": null,
   "id": "4b6808a1",
   "metadata": {},
   "outputs": [],
   "source": [
    "X_train = X[:100, :]\n",
    "Y_train = y[:100]\n",
    "\n",
    "X_test = X[100:, :]\n",
    "Y_test = y[100:]"
   ]
  },
  {
   "cell_type": "code",
   "execution_count": null,
   "id": "675ff3ef",
   "metadata": {},
   "outputs": [],
   "source": [
    "model = tf.keras.Sequential()\n",
    "model.add( tf.keras.layers.Dense(units=50, input_shape=(2,), activation='relu') )\n",
    "model.add( tf.keras.layers.Dense(units=50, activation='relu'))\n",
    "model.add( tf.keras.layers.Dense(units=50, activation='relu'))\n",
    "model.add( tf.keras.layers.Dense(units=1, activation='sigmoid'))"
   ]
  },
  {
   "cell_type": "code",
   "execution_count": null,
   "id": "ec455c20",
   "metadata": {},
   "outputs": [],
   "source": [
    "model.summary()"
   ]
  },
  {
   "cell_type": "code",
   "execution_count": null,
   "id": "da297469",
   "metadata": {},
   "outputs": [],
   "source": [
    "\n",
    "model.compile(\n",
    "    optimizer = tf.keras.optimizers.SGD(),\n",
    "    loss = tf.keras.losses.BinaryCrossentropy(),\n",
    "    metrics=[tf.keras.metrics.BinaryAccuracy() ]\n",
    ")\n"
   ]
  },
  {
   "cell_type": "code",
   "execution_count": null,
   "id": "4f2f65af",
   "metadata": {},
   "outputs": [],
   "source": [
    "history = model.fit(\n",
    "    X_train,\n",
    "    Y_train,\n",
    "    validation_data=(X_test, Y_test),\n",
    "    epochs=200,\n",
    "    batch_size=8,\n",
    "    verbose=1\n",
    ")"
   ]
  },
  {
   "cell_type": "code",
   "execution_count": null,
   "id": "3a53697a",
   "metadata": {
    "scrolled": false
   },
   "outputs": [],
   "source": [
    "plt.plot( history.history['binary_accuracy'] )                 ##train\n",
    "plt.plot( history.history['val_binary_accuracy'] )             ##test\n",
    "plt.legend(['train', 'test'], loc='upper left')\n",
    "plt.xlabel('epoch')\n",
    "plt.ylabel('accuracy')\n",
    "plt.title('model accuracy')\n",
    "plt.show()"
   ]
  },
  {
   "cell_type": "code",
   "execution_count": null,
   "id": "33de72a8",
   "metadata": {},
   "outputs": [],
   "source": [
    "plt.plot(history.history['loss'])\n",
    "plt.plot(history.history['val_loss'])\n",
    "plt.legend(['train', 'test'], loc='upper left')\n",
    "plt.xlabel('epoch')\n",
    "plt.ylabel('loss')\n",
    "plt.show()"
   ]
  },
  {
   "cell_type": "code",
   "execution_count": null,
   "id": "af968b7d",
   "metadata": {
    "scrolled": true
   },
   "outputs": [],
   "source": [
    "y_pred = model.predict(X_test)\n",
    "y_pred\n",
    "y_pred_labels = (y_pred > 0.5).astype(int)\n",
    "precision = precision_score(Y_test, y_pred_labels, zero_division=1)\n",
    "recall = recall_score(Y_test, y_pred_labels)\n",
    "f1 = 2* recall * precision / (recall + precision)\n",
    "\n",
    "print(\"Precision \\t: \", precision)\n",
    "print(\"Recall: \\t\", recall)\n",
    "print(\"F1: \\t\", f1)"
   ]
  },
  {
   "cell_type": "code",
   "execution_count": null,
   "id": "3abd15db",
   "metadata": {},
   "outputs": [],
   "source": [
    "model.save('XORmodel_2.h5')"
   ]
  },
  {
   "cell_type": "markdown",
   "id": "ec5e55ca",
   "metadata": {},
   "source": [
    "## Model 3"
   ]
  },
  {
   "cell_type": "code",
   "execution_count": null,
   "id": "cf4fd01f",
   "metadata": {},
   "outputs": [],
   "source": [
    "model3 = tf.keras.Sequential()\n",
    "model3.add( tf.keras.layers.Dense(units=40, input_shape=(2,), activation='relu') )\n",
    "model3.add( tf.keras.layers.Dense(units=80, activation='tanh'))\n",
    "model3.add( tf.keras.layers.Dense(units=40, activation='relu'))\n",
    "model3.add( tf.keras.layers.Dense(units=10, activation='tanh' ))\n",
    "model3.add( tf.keras.layers.Dense(units=1, activation='sigmoid'))"
   ]
  },
  {
   "cell_type": "code",
   "execution_count": null,
   "id": "d1ac53d6",
   "metadata": {},
   "outputs": [],
   "source": [
    "model3.summary()"
   ]
  },
  {
   "cell_type": "code",
   "execution_count": null,
   "id": "dcc01431",
   "metadata": {},
   "outputs": [],
   "source": [
    "\n",
    "model3.compile(\n",
    "    optimizer = tf.keras.optimizers.SGD(),\n",
    "    loss = tf.keras.losses.BinaryCrossentropy(),\n",
    "    metrics=[tf.keras.metrics.BinaryAccuracy() ]\n",
    ")\n"
   ]
  },
  {
   "cell_type": "code",
   "execution_count": null,
   "id": "759f06a7",
   "metadata": {},
   "outputs": [],
   "source": [
    "history = model3.fit(\n",
    "    X_train,\n",
    "    Y_train,\n",
    "    validation_data=(X_test, Y_test),\n",
    "    epochs=200,\n",
    "    batch_size=8,\n",
    "    verbose=1\n",
    ")"
   ]
  },
  {
   "cell_type": "code",
   "execution_count": null,
   "id": "92987482",
   "metadata": {
    "scrolled": false
   },
   "outputs": [],
   "source": [
    "plt.plot( history.history['binary_accuracy'] )                 ##train\n",
    "plt.plot( history.history['val_binary_accuracy'] )             ##test\n",
    "plt.legend(['train', 'test'], loc='upper left')\n",
    "plt.xlabel('epoch')\n",
    "plt.ylabel('accuracy')\n",
    "plt.title('model accuracy')\n",
    "plt.show()"
   ]
  },
  {
   "cell_type": "code",
   "execution_count": null,
   "id": "f8f0bbab",
   "metadata": {},
   "outputs": [],
   "source": [
    "plt.plot(history.history['loss'])\n",
    "plt.plot(history.history['val_loss'])\n",
    "plt.legend(['train', 'test'], loc='upper left')\n",
    "plt.xlabel('epoch')\n",
    "plt.ylabel('loss')\n",
    "plt.show()"
   ]
  },
  {
   "cell_type": "code",
   "execution_count": null,
   "id": "af5d0676",
   "metadata": {
    "scrolled": true
   },
   "outputs": [],
   "source": [
    "y_pred = model3.predict(X_test)\n",
    "y_pred\n",
    "y_pred_labels = (y_pred > 0.5).astype(int)\n",
    "precision = precision_score(Y_test, y_pred_labels, zero_division=1)\n",
    "recall = recall_score(Y_test, y_pred_labels)\n",
    "f1 = 2* recall * precision / (recall + precision)\n",
    "\n",
    "print(\"Precision : \", precision)\n",
    "print(\"Recall: \", recall)\n",
    "print(\"F1: \", f1)"
   ]
  },
  {
   "cell_type": "code",
   "execution_count": null,
   "id": "37a3d03b",
   "metadata": {
    "scrolled": false
   },
   "outputs": [],
   "source": [
    "model3.save('XORmodel_3.h5')"
   ]
  },
  {
   "cell_type": "code",
   "execution_count": null,
   "id": "5b0377cd",
   "metadata": {},
   "outputs": [],
   "source": []
  },
  {
   "cell_type": "code",
   "execution_count": null,
   "id": "dae0016e",
   "metadata": {},
   "outputs": [],
   "source": []
  },
  {
   "cell_type": "code",
   "execution_count": null,
   "id": "687f434a",
   "metadata": {},
   "outputs": [],
   "source": []
  },
  {
   "cell_type": "code",
   "execution_count": null,
   "id": "eeac5ac6",
   "metadata": {},
   "outputs": [],
   "source": []
  }
 ],
 "metadata": {
  "kernelspec": {
   "display_name": "Python 3 (ipykernel)",
   "language": "python",
   "name": "python3"
  },
  "language_info": {
   "codemirror_mode": {
    "name": "ipython",
    "version": 3
   },
   "file_extension": ".py",
   "mimetype": "text/x-python",
   "name": "python",
   "nbconvert_exporter": "python",
   "pygments_lexer": "ipython3",
   "version": "3.9.13"
  }
 },
 "nbformat": 4,
 "nbformat_minor": 5
}
